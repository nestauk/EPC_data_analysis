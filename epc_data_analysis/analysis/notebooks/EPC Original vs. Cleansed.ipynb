{
 "cells": [
  {
   "cell_type": "markdown",
   "metadata": {},
   "source": [
    "# Comparing the Original EPC Dataset with the Cleansed Version"
   ]
  },
  {
   "cell_type": "code",
   "execution_count": 1,
   "metadata": {},
   "outputs": [],
   "source": [
    "import pandas as pd\n",
    "from ipywidgets import interact\n",
    "\n",
    "from epc_data_analysis import PROJECT_DIR\n",
    "from epc_data_analysis.getters import epc_data, util_data\n",
    "from epc_data_analysis.analysis.notebooks.notebook_utils import my_widgets\n",
    "from epc_data_analysis.pipeline import feature_engineering, easy_plotting, data_cleaning"
   ]
  },
  {
   "cell_type": "markdown",
   "metadata": {},
   "source": [
    "## Getting the data\n",
    "\n",
    "The original data is made to match the cleansed set: only England and Wales data and de-duplicated. \n",
    "\n",
    "The preprocessed original data can be loaded directly or processed here. "
   ]
  },
  {
   "cell_type": "code",
   "execution_count": 2,
   "metadata": {},
   "outputs": [],
   "source": [
    "use_preprocessed_original_data = True\n",
    "save_preprocessed_data = False\n",
    "\n",
    "DIR_PATH = str(PROJECT_DIR)+'/inputs/Comparing_datasets/'"
   ]
  },
  {
   "cell_type": "markdown",
   "metadata": {},
   "source": [
    "### Loading the cleansed data"
   ]
  },
  {
   "cell_type": "code",
   "execution_count": 3,
   "metadata": {},
   "outputs": [
    {
     "name": "stderr",
     "output_type": "stream",
     "text": [
      "/Users/juliasuter/opt/anaconda3/envs/EPC_data_analysis/lib/python3.8/site-packages/IPython/core/interactiveshell.py:3169: DtypeWarning: Columns (8,9,11,37) have mixed types.Specify dtype option on import or set low_memory=False.\n",
      "  has_raised = await self.run_ast_nodes(code_ast.body, cell_name,\n"
     ]
    }
   ],
   "source": [
    "cleansed_epc_df = pd.read_csv(DIR_PATH+'EPC_Records__cleansed_and_deduplicated.csv', low_memory=True)\n",
    "\n",
    "cleansed_epc_df[\"YEAR\"] = cleansed_epc_df[\"LODGEMENT_DATE\"].apply(\n",
    "            feature_engineering.get_year)"
   ]
  },
  {
   "cell_type": "markdown",
   "metadata": {},
   "source": [
    "### Option 1) Loading the preprocessed orignal data"
   ]
  },
  {
   "cell_type": "code",
   "execution_count": 4,
   "metadata": {},
   "outputs": [],
   "source": [
    "if use_preprocessed_original_data:\n",
    "    original_epc_df = pd.read_csv(DIR_PATH+\"Original_EPC_Wales_England.csv\")\n",
    "    original_epc_df_non_depl = pd.read_csv(DIR_PATH+\"Original_EPC_Wales_England_non_depupl.csv\")"
   ]
  },
  {
   "cell_type": "markdown",
   "metadata": {},
   "source": [
    "### Option 2) Preprocessing the original data"
   ]
  },
  {
   "cell_type": "code",
   "execution_count": 5,
   "metadata": {},
   "outputs": [],
   "source": [
    "if not use_preprocessed_original_data:\n",
    "\n",
    "    features_of_interest = ['ADDRESS1', 'CURRENT_ENERGY_RATING', 'POTENTIAL_ENERGY_RATING', 'TENURE',\n",
    "                            'CURRENT_ENERGY_EFFICIENCY', \n",
    "                            'LMK_KEY', 'POSTCODE', 'MAINHEAT_DESCRIPTION', 'CO2_EMISSIONS_CURRENT', \n",
    "                            'CO2_EMISS_CURR_PER_FLOOR_AREA', 'LIGHTING_COST_CURRENT', 'HEATING_COST_CURRENT',\n",
    "                            'HOT_WATER_COST_CURRENT', 'BUILDING_REFERENCE_NUMBER', 'LODGEMENT_DATE', \n",
    "                            'INSPECTION_DATE', 'BUILT_FORM', 'PROPERTY_TYPE', 'CONSTRUCTION_AGE_BAND',\n",
    "                            'TRANSACTION_TYPE', 'MAIN_FUEL', 'TOTAL_FLOOR_AREA', 'ENERGY_TARIFF']\n",
    "\n",
    "\n",
    "    epc_Wales = epc_data.load_epc_data(\n",
    "        subset='Wales', usecols=features_of_interest, low_memory=False\n",
    "    )\n",
    "\n",
    "    epc_England = epc_data.load_epc_data(\n",
    "        subset='England', usecols=features_of_interest, low_memory=False\n",
    "    )\n",
    "\n",
    "    print('Wales: {} samples'.format(epc_Wales.shape[0]))\n",
    "    print('England: {} samples'.format(epc_England.shape[0]))\n",
    "    original_epc_df = pd.concat([epc_Wales, epc_England], axis=0)\n",
    "\n",
    "    print('Combined: {} samples'.format(original_epc_df.shape[0]))\n",
    "    \n",
    "    print('------------------')\n",
    "    \n",
    "    # Preprocessing\n",
    "    original_epc_df_non_depl = data_cleaning.clean_epc_data(original_epc_df)\n",
    "    print(original_epc_df_non_depl.shape)\n",
    "\n",
    "    original_epc_df_non_depl = feature_engineering.get_additional_features(original_epc_df)  \n",
    "    print(original_epc_df_non_depl.shape)\n",
    "    \n",
    "    original_epc_df = feature_engineering.filter_by_year(original_epc_df_non_depl, 'BUILDING_ID', None, selection=\"latest entry\")\n",
    "    print(original_epc_df.shape)"
   ]
  },
  {
   "cell_type": "code",
   "execution_count": 6,
   "metadata": {},
   "outputs": [],
   "source": [
    "if save_preprocessed_data:\n",
    "    original_epc_df.to_csv(DIR_PATH+'Original_EPC_Wales_England.csv', index=False)\n",
    "    original_epc_df_non_depl.to_csv(DIR_PATH+'Original_EPC_Wales_England_non_depupl.csv', index=False)"
   ]
  },
  {
   "cell_type": "markdown",
   "metadata": {},
   "source": [
    "## Analysis\n",
    "\n",
    "### Sample comparison"
   ]
  },
  {
   "cell_type": "code",
   "execution_count": 7,
   "metadata": {},
   "outputs": [
    {
     "name": "stdout",
     "output_type": "stream",
     "text": [
      "Original: 15631334 samples\n",
      "Cleansed: 14343966 samples\n",
      "-------------------\n",
      "Original: 35 features\n",
      "Depends on selection of features.\n",
      "\n",
      "Cleansed: 44 features\n"
     ]
    }
   ],
   "source": [
    "print('Original: {} samples'.format(original_epc_df.shape[0]))\n",
    "print('Cleansed: {} samples'.format(cleansed_epc_df.shape[0]))\n",
    "print('-------------------')\n",
    "print('Original: {} features\\nDepends on selection of features.'.format(original_epc_df.shape[1]))\n",
    "print()\n",
    "print('Cleansed: {} features'.format(cleansed_epc_df.shape[1]))"
   ]
  },
  {
   "cell_type": "markdown",
   "metadata": {},
   "source": [
    "### Comparing distributions (normalised)"
   ]
  },
  {
   "cell_type": "code",
   "execution_count": 8,
   "metadata": {},
   "outputs": [
    {
     "name": "stdout",
     "output_type": "stream",
     "text": [
      "Original EPC Data\n"
     ]
    },
    {
     "data": {
      "application/vnd.jupyter.widget-view+json": {
       "model_id": "d50eec7233b24b2fb8362fa594695f7b",
       "version_major": 2,
       "version_minor": 0
      },
      "text/plain": [
       "interactive(children=(Dropdown(description='Original EPC feature', index=4, options=('LMK_KEY', 'ADDRESS1', 'P…"
      ]
     },
     "metadata": {},
     "output_type": "display_data"
    },
    {
     "name": "stdout",
     "output_type": "stream",
     "text": [
      "Cleansed EPC Data\n"
     ]
    },
    {
     "data": {
      "application/vnd.jupyter.widget-view+json": {
       "model_id": "435e24202a3e42839c7f64fd3c3f94bc",
       "version_major": 2,
       "version_minor": 0
      },
      "text/plain": [
       "interactive(children=(Dropdown(description='Cleansed EPC feature', index=28, options=('Unnamed: 0', 'ROW_NUM',…"
      ]
     },
     "metadata": {},
     "output_type": "display_data"
    }
   ],
   "source": [
    "column_widget_1 = my_widgets.get_custom_widget(\n",
    "    original_epc_df.columns,\n",
    "    description=\"Original EPC feature\",\n",
    "    default_value=\"CURRENT_ENERGY_RATING\",\n",
    "    widget_type=\"dropdown\",\n",
    ")\n",
    "\n",
    "column_widget_2 = my_widgets.get_custom_widget(\n",
    "    cleansed_epc_df.columns,\n",
    "    description=\"Cleansed EPC feature\",\n",
    "    default_value=\"FINAL_EPC_BAND\",\n",
    "    widget_type=\"dropdown\",\n",
    ")\n",
    "\n",
    "\n",
    "print(\"Original EPC Data\")\n",
    "@interact(category=column_widget_1)\n",
    "def plot_distribution_normalised(category):\n",
    "    easy_plotting.plot_subcategory_distribution(\n",
    "        original_epc_df, category, normalize=True, y_label=\"Properties\", x_tick_rotation=45,\n",
    "        plot_title=\"Original EPC: Distribution for {} (%)\".format(category)\n",
    "    )\n",
    "    \n",
    "print(\"Cleansed EPC Data\")\n",
    "@interact(category=column_widget_2)\n",
    "def plot_distribution_normalised(category):\n",
    "    easy_plotting.plot_subcategory_distribution(\n",
    "        cleansed_epc_df, category, normalize=True, y_label=\"Properties\", x_tick_rotation=45,\n",
    "        plot_title=\"Cleansed EPC: Distribution for {} (%)\".format(category)\n",
    "    )"
   ]
  },
  {
   "cell_type": "markdown",
   "metadata": {},
   "source": [
    "### Comparing distributions (not normalised)"
   ]
  },
  {
   "cell_type": "code",
   "execution_count": 9,
   "metadata": {},
   "outputs": [
    {
     "name": "stdout",
     "output_type": "stream",
     "text": [
      "Original EPC Data\n"
     ]
    },
    {
     "data": {
      "application/vnd.jupyter.widget-view+json": {
       "model_id": "3c83b5177ca64a249ca147ebf6b265d5",
       "version_major": 2,
       "version_minor": 0
      },
      "text/plain": [
       "interactive(children=(Dropdown(description='EPC feature', index=4, options=('LMK_KEY', 'ADDRESS1', 'POSTCODE',…"
      ]
     },
     "metadata": {},
     "output_type": "display_data"
    },
    {
     "name": "stdout",
     "output_type": "stream",
     "text": [
      "Cleansed EPC Data\n"
     ]
    },
    {
     "data": {
      "application/vnd.jupyter.widget-view+json": {
       "model_id": "b37f48c850514dd1a51986f0a219d026",
       "version_major": 2,
       "version_minor": 0
      },
      "text/plain": [
       "interactive(children=(Dropdown(description='EPC feature', index=28, options=('Unnamed: 0', 'ROW_NUM', 'LMK_KEY…"
      ]
     },
     "metadata": {},
     "output_type": "display_data"
    }
   ],
   "source": [
    "column_widget_1 = my_widgets.get_custom_widget(\n",
    "    original_epc_df.columns,\n",
    "    description=\"EPC feature\",\n",
    "    default_value=\"CURRENT_ENERGY_RATING\",\n",
    "    widget_type=\"dropdown\",\n",
    ")\n",
    "\n",
    "column_widget_2 = my_widgets.get_custom_widget(\n",
    "    cleansed_epc_df.columns,\n",
    "    description=\"EPC feature\",\n",
    "    default_value=\"FINAL_EPC_BAND\",\n",
    "    widget_type=\"dropdown\",\n",
    ")\n",
    "\n",
    "\n",
    "print(\"Original EPC Data\")\n",
    "@interact(category=column_widget_1)\n",
    "def plot_distribution(category):\n",
    "    easy_plotting.plot_subcategory_distribution(\n",
    "        original_epc_df, category, normalize=False, y_label=\"Properties\", x_tick_rotation=45,y_ticklabel_type='k',\n",
    "        plot_title=\"Original EPC: Distribution for {}\".format(category)\n",
    "    )\n",
    "    \n",
    "print(\"Cleansed EPC Data\")\n",
    "@interact(category=column_widget_2)\n",
    "def plot_distribution(category):\n",
    "    easy_plotting.plot_subcategory_distribution(\n",
    "        cleansed_epc_df, category, normalize=False, y_label=\"Properties\", x_tick_rotation=45, y_ticklabel_type='k',\n",
    "        plot_title=\"Cleansed EPC: Distribution for {}\".format(category)\n",
    "    )"
   ]
  },
  {
   "cell_type": "markdown",
   "metadata": {},
   "source": [
    "## What data is kept? The latest entry?\n",
    "\n",
    "Get properties with several buildings and check lodgement date (and for double checking also EPC score). "
   ]
  },
  {
   "cell_type": "code",
   "execution_count": 10,
   "metadata": {},
   "outputs": [
    {
     "data": {
      "text/plain": [
       "1           7194793278\n",
       "2           3301443078\n",
       "4           7990446478\n",
       "10          8347289178\n",
       "14          3573995478\n",
       "               ...    \n",
       "15631319    2001030278\n",
       "15631329    2424151568\n",
       "15631330    9661627568\n",
       "15631332    2671832468\n",
       "15631333    5936297078\n",
       "Name: BUILDING_REFERENCE_NUMBER, Length: 3477938, dtype: int64"
      ]
     },
     "execution_count": 10,
     "metadata": {},
     "output_type": "execute_result"
    }
   ],
   "source": [
    "original_epc_df[original_epc_df['N_ENTRIES_BUILD_ID'] > 1]['BUILDING_REFERENCE_NUMBER']"
   ]
  },
  {
   "cell_type": "code",
   "execution_count": 11,
   "metadata": {},
   "outputs": [],
   "source": [
    "building_reference_example = [4649558968, 7194793278, 8347289178, 9661627568, 5936297078][2]"
   ]
  },
  {
   "cell_type": "code",
   "execution_count": 12,
   "metadata": {},
   "outputs": [
    {
     "data": {
      "text/html": [
       "<div>\n",
       "<style scoped>\n",
       "    .dataframe tbody tr th:only-of-type {\n",
       "        vertical-align: middle;\n",
       "    }\n",
       "\n",
       "    .dataframe tbody tr th {\n",
       "        vertical-align: top;\n",
       "    }\n",
       "\n",
       "    .dataframe thead th {\n",
       "        text-align: right;\n",
       "    }\n",
       "</style>\n",
       "<table border=\"1\" class=\"dataframe\">\n",
       "  <thead>\n",
       "    <tr style=\"text-align: right;\">\n",
       "      <th></th>\n",
       "      <th>CURRENT_ENERGY_EFFICIENCY</th>\n",
       "      <th>LODGEMENT_DATE</th>\n",
       "      <th>LMK_KEY</th>\n",
       "    </tr>\n",
       "  </thead>\n",
       "  <tbody>\n",
       "    <tr>\n",
       "      <th>18080494</th>\n",
       "      <td>13</td>\n",
       "      <td>2018-05-24</td>\n",
       "      <td>1091757889342018052415024617982328</td>\n",
       "    </tr>\n",
       "    <tr>\n",
       "      <th>18080531</th>\n",
       "      <td>1</td>\n",
       "      <td>2014-02-17</td>\n",
       "      <td>1091757882352014021718203298040813</td>\n",
       "    </tr>\n",
       "  </tbody>\n",
       "</table>\n",
       "</div>"
      ],
      "text/plain": [
       "          CURRENT_ENERGY_EFFICIENCY LODGEMENT_DATE  \\\n",
       "18080494                         13     2018-05-24   \n",
       "18080531                          1     2014-02-17   \n",
       "\n",
       "                                     LMK_KEY  \n",
       "18080494  1091757889342018052415024617982328  \n",
       "18080531  1091757882352014021718203298040813  "
      ]
     },
     "execution_count": 12,
     "metadata": {},
     "output_type": "execute_result"
    }
   ],
   "source": [
    "original_epc_df_non_depl[original_epc_df_non_depl['BUILDING_REFERENCE_NUMBER'] == building_reference_example][['CURRENT_ENERGY_EFFICIENCY', 'LODGEMENT_DATE', 'LMK_KEY']]"
   ]
  },
  {
   "cell_type": "code",
   "execution_count": 13,
   "metadata": {},
   "outputs": [
    {
     "data": {
      "text/html": [
       "<div>\n",
       "<style scoped>\n",
       "    .dataframe tbody tr th:only-of-type {\n",
       "        vertical-align: middle;\n",
       "    }\n",
       "\n",
       "    .dataframe tbody tr th {\n",
       "        vertical-align: top;\n",
       "    }\n",
       "\n",
       "    .dataframe thead th {\n",
       "        text-align: right;\n",
       "    }\n",
       "</style>\n",
       "<table border=\"1\" class=\"dataframe\">\n",
       "  <thead>\n",
       "    <tr style=\"text-align: right;\">\n",
       "      <th></th>\n",
       "      <th>CURRENT_ENERGY_EFFICIENCY</th>\n",
       "      <th>LODGEMENT_DATE</th>\n",
       "      <th>LMK_KEY</th>\n",
       "    </tr>\n",
       "  </thead>\n",
       "  <tbody>\n",
       "    <tr>\n",
       "      <th>10</th>\n",
       "      <td>13</td>\n",
       "      <td>2018-05-24</td>\n",
       "      <td>1091757889342018052415024617982328</td>\n",
       "    </tr>\n",
       "  </tbody>\n",
       "</table>\n",
       "</div>"
      ],
      "text/plain": [
       "    CURRENT_ENERGY_EFFICIENCY LODGEMENT_DATE  \\\n",
       "10                         13     2018-05-24   \n",
       "\n",
       "                               LMK_KEY  \n",
       "10  1091757889342018052415024617982328  "
      ]
     },
     "execution_count": 13,
     "metadata": {},
     "output_type": "execute_result"
    }
   ],
   "source": [
    "original_epc_df[original_epc_df['BUILDING_REFERENCE_NUMBER'] == building_reference_example][['CURRENT_ENERGY_EFFICIENCY', 'LODGEMENT_DATE', 'LMK_KEY']]"
   ]
  },
  {
   "cell_type": "code",
   "execution_count": 14,
   "metadata": {},
   "outputs": [
    {
     "data": {
      "text/html": [
       "<div>\n",
       "<style scoped>\n",
       "    .dataframe tbody tr th:only-of-type {\n",
       "        vertical-align: middle;\n",
       "    }\n",
       "\n",
       "    .dataframe tbody tr th {\n",
       "        vertical-align: top;\n",
       "    }\n",
       "\n",
       "    .dataframe thead th {\n",
       "        text-align: right;\n",
       "    }\n",
       "</style>\n",
       "<table border=\"1\" class=\"dataframe\">\n",
       "  <thead>\n",
       "    <tr style=\"text-align: right;\">\n",
       "      <th></th>\n",
       "      <th>FINAL_EPC_SCORE</th>\n",
       "      <th>LODGEMENT_DATE</th>\n",
       "      <th>LMK_KEY</th>\n",
       "    </tr>\n",
       "  </thead>\n",
       "  <tbody>\n",
       "    <tr>\n",
       "      <th>2830757</th>\n",
       "      <td>13.0</td>\n",
       "      <td>2018-05-24</td>\n",
       "      <td>1091757889342017982642440260466042</td>\n",
       "    </tr>\n",
       "  </tbody>\n",
       "</table>\n",
       "</div>"
      ],
      "text/plain": [
       "         FINAL_EPC_SCORE LODGEMENT_DATE                             LMK_KEY\n",
       "2830757             13.0     2018-05-24  1091757889342017982642440260466042"
      ]
     },
     "execution_count": 14,
     "metadata": {},
     "output_type": "execute_result"
    }
   ],
   "source": [
    "cleansed_epc_df[cleansed_epc_df['BUILDING_REFERENCE_NUMBER'] == building_reference_example][['FINAL_EPC_SCORE','LODGEMENT_DATE', 'LMK_KEY' ]]"
   ]
  },
  {
   "cell_type": "markdown",
   "metadata": {},
   "source": [
    "### Final Fuel Bill Composision\n",
    "\n",
    "FINAL_FUEL_BILL seems to be combination of HEATING_COST_CURRENT, HOT_WATER_COST_CURRENT and LIGHTING_COST_CURRENT."
   ]
  },
  {
   "cell_type": "code",
   "execution_count": 15,
   "metadata": {},
   "outputs": [
    {
     "name": "stdout",
     "output_type": "stream",
     "text": [
      "457799    2088.0\n",
      "Name: HEATING_COST_CURRENT, dtype: float64\n",
      "457799    598.0\n",
      "Name: HOT_WATER_COST_CURRENT, dtype: float64\n",
      "457799    87.0\n",
      "Name: LIGHTING_COST_CURRENT, dtype: float64\n",
      "32372    2773.0\n",
      "Name: FINAL_FUEL_BILL, dtype: float64\n",
      "----------------------\n",
      "Summed up costs: 457799    2773.0\n",
      "dtype: float64\n"
     ]
    }
   ],
   "source": [
    "building_reference_number = 9637549468\n",
    "\n",
    "original_sample = original_epc_df[original_epc_df['BUILDING_REFERENCE_NUMBER'] == building_reference_number]\n",
    "cleansed_sample = cleansed_epc_df[cleansed_epc_df['BUILDING_REFERENCE_NUMBER'] == building_reference_number]\n",
    "\n",
    "\n",
    "print(original_sample['HEATING_COST_CURRENT'])\n",
    "print(original_sample['HOT_WATER_COST_CURRENT'])\n",
    "print(original_sample['LIGHTING_COST_CURRENT'])\n",
    "\n",
    "print(cleansed_sample['FINAL_FUEL_BILL'])\n",
    "\n",
    "print('----------------------')\n",
    "print('Summed up costs:', original_sample['HEATING_COST_CURRENT'] + original_sample['HOT_WATER_COST_CURRENT'] + original_sample['LIGHTING_COST_CURRENT'])"
   ]
  },
  {
   "cell_type": "markdown",
   "metadata": {},
   "source": [
    "### What happened to the unknown sector and other NODATA! entries?\n",
    "\n",
    "What happened to samples with unknown tenure type or other missing data?\n",
    "\n",
    "Some data could be filled in, other samples were discarded.\n",
    "\n",
    "```\n",
    "Tenure Type:  0.2% filled in\n",
    "Construction Age: 0.6% filled in\n",
    "Built Form: 70% filled in\n",
    "```"
   ]
  },
  {
   "cell_type": "code",
   "execution_count": 16,
   "metadata": {},
   "outputs": [
    {
     "name": "stdout",
     "output_type": "stream",
     "text": [
      "Number of unknown data samples for:\n",
      "Tenure: 1454267\n",
      "Construction Age: 2113967\n",
      "Built Form: 425316\n"
     ]
    },
    {
     "data": {
      "text/plain": [
       "Owner Occupied      1713\n",
       "Social              1507\n",
       "Privately Rented     991\n",
       "Name: FINAL_PROP_TENURE, dtype: int64"
      ]
     },
     "execution_count": 16,
     "metadata": {},
     "output_type": "execute_result"
    }
   ],
   "source": [
    "unknown_tenure_keys = list(original_epc_df[original_epc_df['TENURE'] == 'unknown']['BUILDING_REFERENCE_NUMBER'])\n",
    "unknown_age_keys = list(original_epc_df[original_epc_df['CONSTRUCTION_AGE_BAND'] == 'unknown']['BUILDING_REFERENCE_NUMBER'])\n",
    "unknown_built_keys = list(original_epc_df[original_epc_df['BUILT_FORM'] == 'NO DATA!']['BUILDING_REFERENCE_NUMBER'])\n",
    "\n",
    "print('Number of unknown data samples for:')\n",
    "print('Tenure: {}'.format(len(unknown_tenure_keys)))\n",
    "print('Construction Age: {}'.format(len(unknown_age_keys)))\n",
    "print('Built Form: {}'.format(len(unknown_built_keys)))\n",
    "\n",
    "cleansed_epc_df[cleansed_epc_df['BUILDING_REFERENCE_NUMBER'].isin(unknown_tenure_keys)][\"FINAL_PROP_TENURE\"].value_counts()"
   ]
  },
  {
   "cell_type": "code",
   "execution_count": 17,
   "metadata": {},
   "outputs": [
    {
     "data": {
      "text/plain": [
       "1950_1966    292\n",
       "Pre_1900     243\n",
       "1900_1929    230\n",
       "Post_1996    228\n",
       "1930_1949    226\n",
       "1967_1982    188\n",
       "1983_1995     37\n",
       "Name: FINAL_PROPERTY_AGE, dtype: int64"
      ]
     },
     "execution_count": 17,
     "metadata": {},
     "output_type": "execute_result"
    }
   ],
   "source": [
    "cleansed_epc_df[cleansed_epc_df['BUILDING_REFERENCE_NUMBER'].isin(unknown_age_keys)][\"FINAL_PROPERTY_AGE\"].value_counts()"
   ]
  },
  {
   "cell_type": "code",
   "execution_count": 18,
   "metadata": {},
   "outputs": [
    {
     "data": {
      "text/plain": [
       "Block of flats         299657\n",
       "Detached house             29\n",
       "Semi-detached house        25\n",
       "End-terraced house         13\n",
       "Mid-terraced house          8\n",
       "Name: FINAL_PROPERTY_TYPE, dtype: int64"
      ]
     },
     "execution_count": 18,
     "metadata": {},
     "output_type": "execute_result"
    }
   ],
   "source": [
    "cleansed_epc_df[cleansed_epc_df['BUILDING_REFERENCE_NUMBER'].isin(unknown_built_keys)][\"FINAL_PROPERTY_TYPE\"].value_counts()"
   ]
  },
  {
   "cell_type": "markdown",
   "metadata": {},
   "source": [
    "### LMK_KEYS are differnet for two datasets\n",
    "\n",
    "There seems to be no overlap, even on the newer data. "
   ]
  },
  {
   "cell_type": "code",
   "execution_count": 19,
   "metadata": {},
   "outputs": [
    {
     "data": {
      "text/html": [
       "<div>\n",
       "<style scoped>\n",
       "    .dataframe tbody tr th:only-of-type {\n",
       "        vertical-align: middle;\n",
       "    }\n",
       "\n",
       "    .dataframe tbody tr th {\n",
       "        vertical-align: top;\n",
       "    }\n",
       "\n",
       "    .dataframe thead th {\n",
       "        text-align: right;\n",
       "    }\n",
       "</style>\n",
       "<table border=\"1\" class=\"dataframe\">\n",
       "  <thead>\n",
       "    <tr style=\"text-align: right;\">\n",
       "      <th></th>\n",
       "      <th>LMK_KEY</th>\n",
       "      <th>ADDRESS1</th>\n",
       "      <th>POSTCODE</th>\n",
       "    </tr>\n",
       "  </thead>\n",
       "  <tbody>\n",
       "    <tr>\n",
       "      <th>41236</th>\n",
       "      <td>264982459542014075844282626080068</td>\n",
       "      <td>28, Joicey Court</td>\n",
       "      <td>TS26 8BZ</td>\n",
       "    </tr>\n",
       "  </tbody>\n",
       "</table>\n",
       "</div>"
      ],
      "text/plain": [
       "                                 LMK_KEY          ADDRESS1  POSTCODE\n",
       "41236  264982459542014075844282626080068  28, Joicey Court  TS26 8BZ"
      ]
     },
     "execution_count": 19,
     "metadata": {},
     "output_type": "execute_result"
    }
   ],
   "source": [
    "cleansed_epc_df[cleansed_epc_df['BUILDING_REFERENCE_NUMBER'] == 4504250668][['LMK_KEY', 'ADDRESS1', 'POSTCODE']]"
   ]
  },
  {
   "cell_type": "code",
   "execution_count": 20,
   "metadata": {},
   "outputs": [
    {
     "data": {
      "text/html": [
       "<div>\n",
       "<style scoped>\n",
       "    .dataframe tbody tr th:only-of-type {\n",
       "        vertical-align: middle;\n",
       "    }\n",
       "\n",
       "    .dataframe tbody tr th {\n",
       "        vertical-align: top;\n",
       "    }\n",
       "\n",
       "    .dataframe thead th {\n",
       "        text-align: right;\n",
       "    }\n",
       "</style>\n",
       "<table border=\"1\" class=\"dataframe\">\n",
       "  <thead>\n",
       "    <tr style=\"text-align: right;\">\n",
       "      <th></th>\n",
       "      <th>LMK_KEY</th>\n",
       "      <th>ADDRESS1</th>\n",
       "      <th>POSTCODE</th>\n",
       "    </tr>\n",
       "  </thead>\n",
       "  <tbody>\n",
       "    <tr>\n",
       "      <th>5314824</th>\n",
       "      <td>264982459542014092909494760049908</td>\n",
       "      <td>28, Joicey Court</td>\n",
       "      <td>TS26 8BZ</td>\n",
       "    </tr>\n",
       "  </tbody>\n",
       "</table>\n",
       "</div>"
      ],
      "text/plain": [
       "                                   LMK_KEY          ADDRESS1  POSTCODE\n",
       "5314824  264982459542014092909494760049908  28, Joicey Court  TS26 8BZ"
      ]
     },
     "execution_count": 20,
     "metadata": {},
     "output_type": "execute_result"
    }
   ],
   "source": [
    "original_epc_df[original_epc_df['BUILDING_REFERENCE_NUMBER'] == 4504250668][['LMK_KEY', 'ADDRESS1', 'POSTCODE']]"
   ]
  },
  {
   "cell_type": "code",
   "execution_count": 21,
   "metadata": {},
   "outputs": [],
   "source": [
    "LMK_KEY_example = '460450212302020031014402078409708'\n",
    "#LMK_KEY_example = '460450257032010032507140438268803'"
   ]
  },
  {
   "cell_type": "code",
   "execution_count": 22,
   "metadata": {},
   "outputs": [
    {
     "data": {
      "text/html": [
       "<div>\n",
       "<style scoped>\n",
       "    .dataframe tbody tr th:only-of-type {\n",
       "        vertical-align: middle;\n",
       "    }\n",
       "\n",
       "    .dataframe tbody tr th {\n",
       "        vertical-align: top;\n",
       "    }\n",
       "\n",
       "    .dataframe thead th {\n",
       "        text-align: right;\n",
       "    }\n",
       "</style>\n",
       "<table border=\"1\" class=\"dataframe\">\n",
       "  <thead>\n",
       "    <tr style=\"text-align: right;\">\n",
       "      <th></th>\n",
       "      <th>LMK_KEY</th>\n",
       "      <th>ADDRESS1</th>\n",
       "      <th>POSTCODE</th>\n",
       "      <th>BUILDING_REFERENCE_NUMBER</th>\n",
       "      <th>CURRENT_ENERGY_RATING</th>\n",
       "      <th>POTENTIAL_ENERGY_RATING</th>\n",
       "      <th>CURRENT_ENERGY_EFFICIENCY</th>\n",
       "      <th>PROPERTY_TYPE</th>\n",
       "      <th>BUILT_FORM</th>\n",
       "      <th>INSPECTION_DATE</th>\n",
       "      <th>...</th>\n",
       "      <th>DATE_INT</th>\n",
       "      <th>UNIQUE_ADDRESS</th>\n",
       "      <th>BUILDING_ID</th>\n",
       "      <th>N_ENTRIES</th>\n",
       "      <th>N_ENTRIES_BUILD_ID</th>\n",
       "      <th>HEATING_SYSTEM</th>\n",
       "      <th>HEATING_SOURCE</th>\n",
       "      <th>CURR_ENERGY_RATING_NUM</th>\n",
       "      <th>ENERGY_RATING_CAT</th>\n",
       "      <th>DIFF_POT_ENERGY_RATING</th>\n",
       "    </tr>\n",
       "  </thead>\n",
       "  <tbody>\n",
       "    <tr>\n",
       "      <th>1395029</th>\n",
       "      <td>460450212302020031014402078409708</td>\n",
       "      <td>2, Amberwood Walk</td>\n",
       "      <td>TS27 3QG</td>\n",
       "      <td>5368814768</td>\n",
       "      <td>C</td>\n",
       "      <td>B</td>\n",
       "      <td>70</td>\n",
       "      <td>House</td>\n",
       "      <td>Mid-Terrace</td>\n",
       "      <td>2020-03-10</td>\n",
       "      <td>...</td>\n",
       "      <td>20200310</td>\n",
       "      <td>2, Amberwood WalkTS27 3QG</td>\n",
       "      <td>2590081647001208</td>\n",
       "      <td>2</td>\n",
       "      <td>2</td>\n",
       "      <td>boiler and radiator</td>\n",
       "      <td>gas</td>\n",
       "      <td>5</td>\n",
       "      <td>C-D</td>\n",
       "      <td>1</td>\n",
       "    </tr>\n",
       "  </tbody>\n",
       "</table>\n",
       "<p>1 rows × 35 columns</p>\n",
       "</div>"
      ],
      "text/plain": [
       "                                   LMK_KEY           ADDRESS1  POSTCODE  \\\n",
       "1395029  460450212302020031014402078409708  2, Amberwood Walk  TS27 3QG   \n",
       "\n",
       "         BUILDING_REFERENCE_NUMBER CURRENT_ENERGY_RATING  \\\n",
       "1395029                 5368814768                     C   \n",
       "\n",
       "        POTENTIAL_ENERGY_RATING  CURRENT_ENERGY_EFFICIENCY PROPERTY_TYPE  \\\n",
       "1395029                       B                         70         House   \n",
       "\n",
       "          BUILT_FORM INSPECTION_DATE  ...  DATE_INT  \\\n",
       "1395029  Mid-Terrace      2020-03-10  ...  20200310   \n",
       "\n",
       "                    UNIQUE_ADDRESS       BUILDING_ID  N_ENTRIES  \\\n",
       "1395029  2, Amberwood WalkTS27 3QG  2590081647001208          2   \n",
       "\n",
       "         N_ENTRIES_BUILD_ID       HEATING_SYSTEM  HEATING_SOURCE  \\\n",
       "1395029                   2  boiler and radiator             gas   \n",
       "\n",
       "         CURR_ENERGY_RATING_NUM ENERGY_RATING_CAT DIFF_POT_ENERGY_RATING  \n",
       "1395029                       5               C-D                      1  \n",
       "\n",
       "[1 rows x 35 columns]"
      ]
     },
     "execution_count": 22,
     "metadata": {},
     "output_type": "execute_result"
    }
   ],
   "source": [
    "original_epc_df[original_epc_df['LMK_KEY'] == str(LMK_KEY_example)]"
   ]
  },
  {
   "cell_type": "code",
   "execution_count": 23,
   "metadata": {},
   "outputs": [
    {
     "data": {
      "text/plain": [
       "10806189    460450212302020031014402078409708\n",
       "10828762    460450257032010032507140438268803\n",
       "Name: LMK_KEY, dtype: object"
      ]
     },
     "execution_count": 23,
     "metadata": {},
     "output_type": "execute_result"
    }
   ],
   "source": [
    "original_epc_df_non_depl[original_epc_df_non_depl['BUILDING_REFERENCE_NUMBER'] == 5368814768]['LMK_KEY']"
   ]
  },
  {
   "cell_type": "code",
   "execution_count": 24,
   "metadata": {},
   "outputs": [
    {
     "data": {
      "text/html": [
       "<div>\n",
       "<style scoped>\n",
       "    .dataframe tbody tr th:only-of-type {\n",
       "        vertical-align: middle;\n",
       "    }\n",
       "\n",
       "    .dataframe tbody tr th {\n",
       "        vertical-align: top;\n",
       "    }\n",
       "\n",
       "    .dataframe thead th {\n",
       "        text-align: right;\n",
       "    }\n",
       "</style>\n",
       "<table border=\"1\" class=\"dataframe\">\n",
       "  <thead>\n",
       "    <tr style=\"text-align: right;\">\n",
       "      <th></th>\n",
       "      <th>Unnamed: 0</th>\n",
       "      <th>ROW_NUM</th>\n",
       "      <th>LMK_KEY</th>\n",
       "      <th>ADDRESS1</th>\n",
       "      <th>ADDRESS2</th>\n",
       "      <th>ADDRESS3</th>\n",
       "      <th>POSTCODE</th>\n",
       "      <th>BUILDING_REFERENCE_NUMBER</th>\n",
       "      <th>LOCAL_AUTHORITY</th>\n",
       "      <th>LOCAL_AUTHORITY_LABEL</th>\n",
       "      <th>...</th>\n",
       "      <th>FINAL_FLOOR_INS</th>\n",
       "      <th>FINAL_HEAT_CONTROL</th>\n",
       "      <th>FINAL_LOW_ENERGY_LIGHTING</th>\n",
       "      <th>FINAL_FIREPLACES</th>\n",
       "      <th>FINAL_WIND_FLAG</th>\n",
       "      <th>FINAL_PV_FLAG</th>\n",
       "      <th>FINAL_SOLAR_THERMAL_FLAG</th>\n",
       "      <th>FINAL_MAIN_FUEL_NEW</th>\n",
       "      <th>FINAL_HEATING_SYSTEM</th>\n",
       "      <th>YEAR</th>\n",
       "    </tr>\n",
       "  </thead>\n",
       "  <tbody>\n",
       "  </tbody>\n",
       "</table>\n",
       "<p>0 rows × 44 columns</p>\n",
       "</div>"
      ],
      "text/plain": [
       "Empty DataFrame\n",
       "Columns: [Unnamed: 0, ROW_NUM, LMK_KEY, ADDRESS1, ADDRESS2, ADDRESS3, POSTCODE, BUILDING_REFERENCE_NUMBER, LOCAL_AUTHORITY, LOCAL_AUTHORITY_LABEL, CONSTITUENCY, COUNTY, LODGEMENT_DATE, FINAL_PROPERTY_TYPE, FINAL_PROP_TENURE, FINAL_PROPERTY_AGE, FINAL_HAB_ROOMS, FINAL_FLOOR_AREA, FINAL_WALL_TYPE, FINAL_WALL_INS, FINAL_RIR, FINAL_LOFT_INS, FINAL_ROOF_TYPE, FINAL_MAIN_FUEL, FINAL_SEC_SYSTEM, FINAL_SEC_FUEL_TYPE, FINAL_GLAZ_TYPE, FINAL_ENERGY_CONSUMPTION, FINAL_EPC_BAND, FINAL_EPC_SCORE, FINAL_CO2_EMISSIONS, FINAL_FUEL_BILL, FINAL_METER_TYPE, FINAL_FLOOR_TYPE, FINAL_FLOOR_INS, FINAL_HEAT_CONTROL, FINAL_LOW_ENERGY_LIGHTING, FINAL_FIREPLACES, FINAL_WIND_FLAG, FINAL_PV_FLAG, FINAL_SOLAR_THERMAL_FLAG, FINAL_MAIN_FUEL_NEW, FINAL_HEATING_SYSTEM, YEAR]\n",
       "Index: []\n",
       "\n",
       "[0 rows x 44 columns]"
      ]
     },
     "execution_count": 24,
     "metadata": {},
     "output_type": "execute_result"
    }
   ],
   "source": [
    "cleansed_epc_df[cleansed_epc_df['LMK_KEY'] == LMK_KEY_example]"
   ]
  },
  {
   "cell_type": "code",
   "execution_count": 25,
   "metadata": {},
   "outputs": [
    {
     "data": {
      "text/html": [
       "<div>\n",
       "<style scoped>\n",
       "    .dataframe tbody tr th:only-of-type {\n",
       "        vertical-align: middle;\n",
       "    }\n",
       "\n",
       "    .dataframe tbody tr th {\n",
       "        vertical-align: top;\n",
       "    }\n",
       "\n",
       "    .dataframe thead th {\n",
       "        text-align: right;\n",
       "    }\n",
       "</style>\n",
       "<table border=\"1\" class=\"dataframe\">\n",
       "  <thead>\n",
       "    <tr style=\"text-align: right;\">\n",
       "      <th></th>\n",
       "      <th>Unnamed: 0</th>\n",
       "      <th>ROW_NUM</th>\n",
       "      <th>LMK_KEY</th>\n",
       "      <th>ADDRESS1</th>\n",
       "      <th>ADDRESS2</th>\n",
       "      <th>ADDRESS3</th>\n",
       "      <th>POSTCODE</th>\n",
       "      <th>BUILDING_REFERENCE_NUMBER</th>\n",
       "      <th>LOCAL_AUTHORITY</th>\n",
       "      <th>LOCAL_AUTHORITY_LABEL</th>\n",
       "      <th>...</th>\n",
       "      <th>FINAL_FLOOR_INS</th>\n",
       "      <th>FINAL_HEAT_CONTROL</th>\n",
       "      <th>FINAL_LOW_ENERGY_LIGHTING</th>\n",
       "      <th>FINAL_FIREPLACES</th>\n",
       "      <th>FINAL_WIND_FLAG</th>\n",
       "      <th>FINAL_PV_FLAG</th>\n",
       "      <th>FINAL_SOLAR_THERMAL_FLAG</th>\n",
       "      <th>FINAL_MAIN_FUEL_NEW</th>\n",
       "      <th>FINAL_HEATING_SYSTEM</th>\n",
       "      <th>YEAR</th>\n",
       "    </tr>\n",
       "  </thead>\n",
       "  <tbody>\n",
       "  </tbody>\n",
       "</table>\n",
       "<p>0 rows × 44 columns</p>\n",
       "</div>"
      ],
      "text/plain": [
       "Empty DataFrame\n",
       "Columns: [Unnamed: 0, ROW_NUM, LMK_KEY, ADDRESS1, ADDRESS2, ADDRESS3, POSTCODE, BUILDING_REFERENCE_NUMBER, LOCAL_AUTHORITY, LOCAL_AUTHORITY_LABEL, CONSTITUENCY, COUNTY, LODGEMENT_DATE, FINAL_PROPERTY_TYPE, FINAL_PROP_TENURE, FINAL_PROPERTY_AGE, FINAL_HAB_ROOMS, FINAL_FLOOR_AREA, FINAL_WALL_TYPE, FINAL_WALL_INS, FINAL_RIR, FINAL_LOFT_INS, FINAL_ROOF_TYPE, FINAL_MAIN_FUEL, FINAL_SEC_SYSTEM, FINAL_SEC_FUEL_TYPE, FINAL_GLAZ_TYPE, FINAL_ENERGY_CONSUMPTION, FINAL_EPC_BAND, FINAL_EPC_SCORE, FINAL_CO2_EMISSIONS, FINAL_FUEL_BILL, FINAL_METER_TYPE, FINAL_FLOOR_TYPE, FINAL_FLOOR_INS, FINAL_HEAT_CONTROL, FINAL_LOW_ENERGY_LIGHTING, FINAL_FIREPLACES, FINAL_WIND_FLAG, FINAL_PV_FLAG, FINAL_SOLAR_THERMAL_FLAG, FINAL_MAIN_FUEL_NEW, FINAL_HEATING_SYSTEM, YEAR]\n",
       "Index: []\n",
       "\n",
       "[0 rows x 44 columns]"
      ]
     },
     "execution_count": 25,
     "metadata": {},
     "output_type": "execute_result"
    }
   ],
   "source": [
    "cleansed_epc_df[cleansed_epc_df['LMK_KEY'] == int(LMK_KEY_example)]"
   ]
  },
  {
   "cell_type": "markdown",
   "metadata": {},
   "source": [
    "### LMK_KEYS are differnet for two datasets - What about the 2020 data?\n",
    "\n",
    "There seems to be no overlap, even on the newer data. "
   ]
  },
  {
   "cell_type": "code",
   "execution_count": 26,
   "metadata": {},
   "outputs": [],
   "source": [
    "cleansed_2020 = list(cleansed_epc_df[cleansed_epc_df['YEAR'] == 2020]['LMK_KEY'])"
   ]
  },
  {
   "cell_type": "code",
   "execution_count": 27,
   "metadata": {},
   "outputs": [],
   "source": [
    "original_2020 = list(original_epc_df[original_epc_df['YEAR'] == 2020]['LMK_KEY'])"
   ]
  },
  {
   "cell_type": "code",
   "execution_count": 28,
   "metadata": {},
   "outputs": [],
   "source": [
    "original_2020_non_dedupl = list(original_epc_df_non_depl[original_epc_df_non_depl['YEAR'] == 2020]['LMK_KEY'])"
   ]
  },
  {
   "cell_type": "code",
   "execution_count": 29,
   "metadata": {},
   "outputs": [
    {
     "name": "stdout",
     "output_type": "stream",
     "text": [
      "360004\n",
      "975117\n",
      "994127\n"
     ]
    }
   ],
   "source": [
    "print(len(cleansed_2020))\n",
    "print(len(original_2020))\n",
    "print(len(original_2020_non_dedupl))"
   ]
  },
  {
   "cell_type": "code",
   "execution_count": 31,
   "metadata": {},
   "outputs": [],
   "source": [
    "#for key in cleansed_2020:\n",
    "#    if key in original_2020_non_dedupl:\n",
    "#        print(key)"
   ]
  },
  {
   "cell_type": "code",
   "execution_count": 32,
   "metadata": {},
   "outputs": [
    {
     "data": {
      "text/html": [
       "<div>\n",
       "<style scoped>\n",
       "    .dataframe tbody tr th:only-of-type {\n",
       "        vertical-align: middle;\n",
       "    }\n",
       "\n",
       "    .dataframe tbody tr th {\n",
       "        vertical-align: top;\n",
       "    }\n",
       "\n",
       "    .dataframe thead th {\n",
       "        text-align: right;\n",
       "    }\n",
       "</style>\n",
       "<table border=\"1\" class=\"dataframe\">\n",
       "  <thead>\n",
       "    <tr style=\"text-align: right;\">\n",
       "      <th></th>\n",
       "      <th>LMK_KEY</th>\n",
       "      <th>ADDRESS1</th>\n",
       "      <th>POSTCODE</th>\n",
       "      <th>BUILDING_REFERENCE_NUMBER</th>\n",
       "      <th>CURRENT_ENERGY_RATING</th>\n",
       "      <th>POTENTIAL_ENERGY_RATING</th>\n",
       "      <th>CURRENT_ENERGY_EFFICIENCY</th>\n",
       "      <th>PROPERTY_TYPE</th>\n",
       "      <th>BUILT_FORM</th>\n",
       "      <th>INSPECTION_DATE</th>\n",
       "      <th>...</th>\n",
       "      <th>DATE_INT</th>\n",
       "      <th>UNIQUE_ADDRESS</th>\n",
       "      <th>BUILDING_ID</th>\n",
       "      <th>N_ENTRIES</th>\n",
       "      <th>N_ENTRIES_BUILD_ID</th>\n",
       "      <th>HEATING_SYSTEM</th>\n",
       "      <th>HEATING_SOURCE</th>\n",
       "      <th>CURR_ENERGY_RATING_NUM</th>\n",
       "      <th>ENERGY_RATING_CAT</th>\n",
       "      <th>DIFF_POT_ENERGY_RATING</th>\n",
       "    </tr>\n",
       "  </thead>\n",
       "  <tbody>\n",
       "    <tr>\n",
       "      <th>16</th>\n",
       "      <td>918812462502020072622401808702468</td>\n",
       "      <td>18, Castle Road</td>\n",
       "      <td>RH12 3NB</td>\n",
       "      <td>588167078</td>\n",
       "      <td>C</td>\n",
       "      <td>B</td>\n",
       "      <td>71</td>\n",
       "      <td>House</td>\n",
       "      <td>Semi-Detached</td>\n",
       "      <td>2020-07-26</td>\n",
       "      <td>...</td>\n",
       "      <td>20200726</td>\n",
       "      <td>18, Castle RoadRH12 3NB</td>\n",
       "      <td>1970048004028869</td>\n",
       "      <td>2</td>\n",
       "      <td>2</td>\n",
       "      <td>boiler and radiator</td>\n",
       "      <td>gas</td>\n",
       "      <td>5</td>\n",
       "      <td>C-D</td>\n",
       "      <td>1</td>\n",
       "    </tr>\n",
       "  </tbody>\n",
       "</table>\n",
       "<p>1 rows × 35 columns</p>\n",
       "</div>"
      ],
      "text/plain": [
       "                              LMK_KEY         ADDRESS1  POSTCODE  \\\n",
       "16  918812462502020072622401808702468  18, Castle Road  RH12 3NB   \n",
       "\n",
       "    BUILDING_REFERENCE_NUMBER CURRENT_ENERGY_RATING POTENTIAL_ENERGY_RATING  \\\n",
       "16                  588167078                     C                       B   \n",
       "\n",
       "    CURRENT_ENERGY_EFFICIENCY PROPERTY_TYPE     BUILT_FORM INSPECTION_DATE  \\\n",
       "16                         71         House  Semi-Detached      2020-07-26   \n",
       "\n",
       "    ...  DATE_INT           UNIQUE_ADDRESS       BUILDING_ID  N_ENTRIES  \\\n",
       "16  ...  20200726  18, Castle RoadRH12 3NB  1970048004028869          2   \n",
       "\n",
       "    N_ENTRIES_BUILD_ID       HEATING_SYSTEM  HEATING_SOURCE  \\\n",
       "16                   2  boiler and radiator             gas   \n",
       "\n",
       "    CURR_ENERGY_RATING_NUM ENERGY_RATING_CAT DIFF_POT_ENERGY_RATING  \n",
       "16                       5               C-D                      1  \n",
       "\n",
       "[1 rows x 35 columns]"
      ]
     },
     "execution_count": 32,
     "metadata": {},
     "output_type": "execute_result"
    }
   ],
   "source": [
    "original_epc_df[original_epc_df['LMK_KEY'] == '918812462502020072622401808702468']"
   ]
  },
  {
   "cell_type": "code",
   "execution_count": 33,
   "metadata": {},
   "outputs": [
    {
     "data": {
      "text/html": [
       "<div>\n",
       "<style scoped>\n",
       "    .dataframe tbody tr th:only-of-type {\n",
       "        vertical-align: middle;\n",
       "    }\n",
       "\n",
       "    .dataframe tbody tr th {\n",
       "        vertical-align: top;\n",
       "    }\n",
       "\n",
       "    .dataframe thead th {\n",
       "        text-align: right;\n",
       "    }\n",
       "</style>\n",
       "<table border=\"1\" class=\"dataframe\">\n",
       "  <thead>\n",
       "    <tr style=\"text-align: right;\">\n",
       "      <th></th>\n",
       "      <th>Unnamed: 0</th>\n",
       "      <th>ROW_NUM</th>\n",
       "      <th>LMK_KEY</th>\n",
       "      <th>ADDRESS1</th>\n",
       "      <th>ADDRESS2</th>\n",
       "      <th>ADDRESS3</th>\n",
       "      <th>POSTCODE</th>\n",
       "      <th>BUILDING_REFERENCE_NUMBER</th>\n",
       "      <th>LOCAL_AUTHORITY</th>\n",
       "      <th>LOCAL_AUTHORITY_LABEL</th>\n",
       "      <th>...</th>\n",
       "      <th>FINAL_FLOOR_INS</th>\n",
       "      <th>FINAL_HEAT_CONTROL</th>\n",
       "      <th>FINAL_LOW_ENERGY_LIGHTING</th>\n",
       "      <th>FINAL_FIREPLACES</th>\n",
       "      <th>FINAL_WIND_FLAG</th>\n",
       "      <th>FINAL_PV_FLAG</th>\n",
       "      <th>FINAL_SOLAR_THERMAL_FLAG</th>\n",
       "      <th>FINAL_MAIN_FUEL_NEW</th>\n",
       "      <th>FINAL_HEATING_SYSTEM</th>\n",
       "      <th>YEAR</th>\n",
       "    </tr>\n",
       "  </thead>\n",
       "  <tbody>\n",
       "    <tr>\n",
       "      <th>8199070</th>\n",
       "      <td>8199071</td>\n",
       "      <td>10857782</td>\n",
       "      <td>918812404732012993924666022082802</td>\n",
       "      <td>18, Castle Road</td>\n",
       "      <td>Broadbridge Heath</td>\n",
       "      <td>NaN</td>\n",
       "      <td>RH12 3NB</td>\n",
       "      <td>588167078</td>\n",
       "      <td>E07000227</td>\n",
       "      <td>Horsham</td>\n",
       "      <td>...</td>\n",
       "      <td>UnInsulated</td>\n",
       "      <td>Programmer and thermostat</td>\n",
       "      <td>0-25%</td>\n",
       "      <td>0</td>\n",
       "      <td>No</td>\n",
       "      <td>No</td>\n",
       "      <td>NaN</td>\n",
       "      <td>Mains Gas</td>\n",
       "      <td>Boiler</td>\n",
       "      <td>2013</td>\n",
       "    </tr>\n",
       "  </tbody>\n",
       "</table>\n",
       "<p>1 rows × 44 columns</p>\n",
       "</div>"
      ],
      "text/plain": [
       "         Unnamed: 0   ROW_NUM                            LMK_KEY  \\\n",
       "8199070     8199071  10857782  918812404732012993924666022082802   \n",
       "\n",
       "                ADDRESS1           ADDRESS2 ADDRESS3  POSTCODE  \\\n",
       "8199070  18, Castle Road  Broadbridge Heath      NaN  RH12 3NB   \n",
       "\n",
       "         BUILDING_REFERENCE_NUMBER LOCAL_AUTHORITY LOCAL_AUTHORITY_LABEL  ...  \\\n",
       "8199070                  588167078       E07000227               Horsham  ...   \n",
       "\n",
       "        FINAL_FLOOR_INS         FINAL_HEAT_CONTROL FINAL_LOW_ENERGY_LIGHTING  \\\n",
       "8199070     UnInsulated  Programmer and thermostat                     0-25%   \n",
       "\n",
       "        FINAL_FIREPLACES FINAL_WIND_FLAG FINAL_PV_FLAG  \\\n",
       "8199070                0              No            No   \n",
       "\n",
       "        FINAL_SOLAR_THERMAL_FLAG  FINAL_MAIN_FUEL_NEW FINAL_HEATING_SYSTEM  \\\n",
       "8199070                      NaN            Mains Gas               Boiler   \n",
       "\n",
       "         YEAR  \n",
       "8199070  2013  \n",
       "\n",
       "[1 rows x 44 columns]"
      ]
     },
     "execution_count": 33,
     "metadata": {},
     "output_type": "execute_result"
    }
   ],
   "source": [
    "cleansed_epc_df[cleansed_epc_df['BUILDING_REFERENCE_NUMBER'] == 588167078]"
   ]
  },
  {
   "cell_type": "code",
   "execution_count": 34,
   "metadata": {},
   "outputs": [
    {
     "data": {
      "text/html": [
       "<div>\n",
       "<style scoped>\n",
       "    .dataframe tbody tr th:only-of-type {\n",
       "        vertical-align: middle;\n",
       "    }\n",
       "\n",
       "    .dataframe tbody tr th {\n",
       "        vertical-align: top;\n",
       "    }\n",
       "\n",
       "    .dataframe thead th {\n",
       "        text-align: right;\n",
       "    }\n",
       "</style>\n",
       "<table border=\"1\" class=\"dataframe\">\n",
       "  <thead>\n",
       "    <tr style=\"text-align: right;\">\n",
       "      <th></th>\n",
       "      <th>LMK_KEY</th>\n",
       "      <th>ADDRESS1</th>\n",
       "      <th>POSTCODE</th>\n",
       "      <th>BUILDING_REFERENCE_NUMBER</th>\n",
       "      <th>CURRENT_ENERGY_RATING</th>\n",
       "      <th>POTENTIAL_ENERGY_RATING</th>\n",
       "      <th>CURRENT_ENERGY_EFFICIENCY</th>\n",
       "      <th>PROPERTY_TYPE</th>\n",
       "      <th>BUILT_FORM</th>\n",
       "      <th>INSPECTION_DATE</th>\n",
       "      <th>...</th>\n",
       "      <th>DATE_INT</th>\n",
       "      <th>UNIQUE_ADDRESS</th>\n",
       "      <th>BUILDING_ID</th>\n",
       "      <th>N_ENTRIES</th>\n",
       "      <th>N_ENTRIES_BUILD_ID</th>\n",
       "      <th>HEATING_SYSTEM</th>\n",
       "      <th>HEATING_SOURCE</th>\n",
       "      <th>CURR_ENERGY_RATING_NUM</th>\n",
       "      <th>ENERGY_RATING_CAT</th>\n",
       "      <th>DIFF_POT_ENERGY_RATING</th>\n",
       "    </tr>\n",
       "  </thead>\n",
       "  <tbody>\n",
       "    <tr>\n",
       "      <th>2456</th>\n",
       "      <td>1809118592242020070922512673000818</td>\n",
       "      <td>82, Albert Park Road</td>\n",
       "      <td>WR14 1RR</td>\n",
       "      <td>2215090778</td>\n",
       "      <td>E</td>\n",
       "      <td>C</td>\n",
       "      <td>46</td>\n",
       "      <td>House</td>\n",
       "      <td>Semi-Detached</td>\n",
       "      <td>2020-07-09</td>\n",
       "      <td>...</td>\n",
       "      <td>20200709</td>\n",
       "      <td>82, Albert Park RoadWR14 1RR</td>\n",
       "      <td>2609284596355912</td>\n",
       "      <td>1</td>\n",
       "      <td>1</td>\n",
       "      <td>boiler and radiator</td>\n",
       "      <td>gas</td>\n",
       "      <td>3</td>\n",
       "      <td>E-G</td>\n",
       "      <td>2</td>\n",
       "    </tr>\n",
       "  </tbody>\n",
       "</table>\n",
       "<p>1 rows × 35 columns</p>\n",
       "</div>"
      ],
      "text/plain": [
       "                                 LMK_KEY              ADDRESS1  POSTCODE  \\\n",
       "2456  1809118592242020070922512673000818  82, Albert Park Road  WR14 1RR   \n",
       "\n",
       "      BUILDING_REFERENCE_NUMBER CURRENT_ENERGY_RATING POTENTIAL_ENERGY_RATING  \\\n",
       "2456                 2215090778                     E                       C   \n",
       "\n",
       "      CURRENT_ENERGY_EFFICIENCY PROPERTY_TYPE     BUILT_FORM INSPECTION_DATE  \\\n",
       "2456                         46         House  Semi-Detached      2020-07-09   \n",
       "\n",
       "      ...  DATE_INT                UNIQUE_ADDRESS       BUILDING_ID  \\\n",
       "2456  ...  20200709  82, Albert Park RoadWR14 1RR  2609284596355912   \n",
       "\n",
       "      N_ENTRIES  N_ENTRIES_BUILD_ID       HEATING_SYSTEM  HEATING_SOURCE  \\\n",
       "2456          1                   1  boiler and radiator             gas   \n",
       "\n",
       "      CURR_ENERGY_RATING_NUM ENERGY_RATING_CAT DIFF_POT_ENERGY_RATING  \n",
       "2456                       3               E-G                      2  \n",
       "\n",
       "[1 rows x 35 columns]"
      ]
     },
     "execution_count": 34,
     "metadata": {},
     "output_type": "execute_result"
    }
   ],
   "source": [
    "original_epc_df[original_epc_df['LMK_KEY'] == '1809118592242020070922512673000818']"
   ]
  },
  {
   "cell_type": "code",
   "execution_count": 35,
   "metadata": {},
   "outputs": [
    {
     "data": {
      "text/html": [
       "<div>\n",
       "<style scoped>\n",
       "    .dataframe tbody tr th:only-of-type {\n",
       "        vertical-align: middle;\n",
       "    }\n",
       "\n",
       "    .dataframe tbody tr th {\n",
       "        vertical-align: top;\n",
       "    }\n",
       "\n",
       "    .dataframe thead th {\n",
       "        text-align: right;\n",
       "    }\n",
       "</style>\n",
       "<table border=\"1\" class=\"dataframe\">\n",
       "  <thead>\n",
       "    <tr style=\"text-align: right;\">\n",
       "      <th></th>\n",
       "      <th>Unnamed: 0</th>\n",
       "      <th>ROW_NUM</th>\n",
       "      <th>LMK_KEY</th>\n",
       "      <th>ADDRESS1</th>\n",
       "      <th>ADDRESS2</th>\n",
       "      <th>ADDRESS3</th>\n",
       "      <th>POSTCODE</th>\n",
       "      <th>BUILDING_REFERENCE_NUMBER</th>\n",
       "      <th>LOCAL_AUTHORITY</th>\n",
       "      <th>LOCAL_AUTHORITY_LABEL</th>\n",
       "      <th>...</th>\n",
       "      <th>FINAL_FLOOR_INS</th>\n",
       "      <th>FINAL_HEAT_CONTROL</th>\n",
       "      <th>FINAL_LOW_ENERGY_LIGHTING</th>\n",
       "      <th>FINAL_FIREPLACES</th>\n",
       "      <th>FINAL_WIND_FLAG</th>\n",
       "      <th>FINAL_PV_FLAG</th>\n",
       "      <th>FINAL_SOLAR_THERMAL_FLAG</th>\n",
       "      <th>FINAL_MAIN_FUEL_NEW</th>\n",
       "      <th>FINAL_HEATING_SYSTEM</th>\n",
       "      <th>YEAR</th>\n",
       "    </tr>\n",
       "  </thead>\n",
       "  <tbody>\n",
       "  </tbody>\n",
       "</table>\n",
       "<p>0 rows × 44 columns</p>\n",
       "</div>"
      ],
      "text/plain": [
       "Empty DataFrame\n",
       "Columns: [Unnamed: 0, ROW_NUM, LMK_KEY, ADDRESS1, ADDRESS2, ADDRESS3, POSTCODE, BUILDING_REFERENCE_NUMBER, LOCAL_AUTHORITY, LOCAL_AUTHORITY_LABEL, CONSTITUENCY, COUNTY, LODGEMENT_DATE, FINAL_PROPERTY_TYPE, FINAL_PROP_TENURE, FINAL_PROPERTY_AGE, FINAL_HAB_ROOMS, FINAL_FLOOR_AREA, FINAL_WALL_TYPE, FINAL_WALL_INS, FINAL_RIR, FINAL_LOFT_INS, FINAL_ROOF_TYPE, FINAL_MAIN_FUEL, FINAL_SEC_SYSTEM, FINAL_SEC_FUEL_TYPE, FINAL_GLAZ_TYPE, FINAL_ENERGY_CONSUMPTION, FINAL_EPC_BAND, FINAL_EPC_SCORE, FINAL_CO2_EMISSIONS, FINAL_FUEL_BILL, FINAL_METER_TYPE, FINAL_FLOOR_TYPE, FINAL_FLOOR_INS, FINAL_HEAT_CONTROL, FINAL_LOW_ENERGY_LIGHTING, FINAL_FIREPLACES, FINAL_WIND_FLAG, FINAL_PV_FLAG, FINAL_SOLAR_THERMAL_FLAG, FINAL_MAIN_FUEL_NEW, FINAL_HEATING_SYSTEM, YEAR]\n",
       "Index: []\n",
       "\n",
       "[0 rows x 44 columns]"
      ]
     },
     "execution_count": 35,
     "metadata": {},
     "output_type": "execute_result"
    }
   ],
   "source": [
    "cleansed_epc_df[cleansed_epc_df['LMK_KEY'] == '1809118592242020070922512673000818']"
   ]
  },
  {
   "cell_type": "code",
   "execution_count": null,
   "metadata": {},
   "outputs": [],
   "source": []
  }
 ],
 "metadata": {
  "jupytext": {
   "cell_metadata_filter": "-all",
   "comment_magics": true,
   "text_representation": {
    "extension": ".py",
    "format_name": "percent",
    "format_version": "1.3",
    "jupytext_version": "1.11.4"
   }
  },
  "kernelspec": {
   "display_name": "Python 3.8.8 64-bit ('EPC_data_analysis': conda)",
   "language": "python",
   "name": "python388jvsc74a57bd01a4c7ba010db823d16e88c91be90e4c3d0f1a2001e059c3c5486bc88e685f2ad"
  },
  "language_info": {
   "codemirror_mode": {
    "name": "ipython",
    "version": 3
   },
   "file_extension": ".py",
   "mimetype": "text/x-python",
   "name": "python",
   "nbconvert_exporter": "python",
   "pygments_lexer": "ipython3",
   "version": "3.8.11"
  }
 },
 "nbformat": 4,
 "nbformat_minor": 4
}
