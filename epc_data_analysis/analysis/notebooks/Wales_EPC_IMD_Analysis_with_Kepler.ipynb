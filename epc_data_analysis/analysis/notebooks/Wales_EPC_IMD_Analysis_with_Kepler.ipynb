{
 "cells": [
  {
   "cell_type": "markdown",
   "metadata": {},
   "source": [
    "# Analysis of Energy Efficiency using Kepler.gl\n",
    "\n",
    "\n",
    "We analyse energy efficiency in Wales and compare it to the Index of Multiple Deprivation (IMD). For visualisation, we use [kepler.gl](https://kepler.gl/)."
   ]
  },
  {
   "cell_type": "markdown",
   "metadata": {},
   "source": [
    "### Imports"
   ]
  },
  {
   "cell_type": "code",
   "execution_count": 1,
   "metadata": {},
   "outputs": [],
   "source": [
    "import yaml\n",
    "import pandas as pd\n",
    "import numpy as np\n",
    "from keplergl import KeplerGl\n",
    "\n",
    "from epc_data_analysis.getters import epc_data, util_data\n",
    "from epc_data_analysis.pipeline import feature_engineering"
   ]
  },
  {
   "cell_type": "markdown",
   "metadata": {},
   "source": [
    "### Load Config File"
   ]
  },
  {
   "cell_type": "code",
   "execution_count": 2,
   "metadata": {
    "lines_to_next_cell": 2
   },
   "outputs": [],
   "source": [
    "with open(\"Kepler/tenure_type_correct_colors_IMD_config.txt\", \"r\") as infile:\n",
    "    config = infile.read()\n",
    "    config = yaml.load(config, Loader=yaml.FullLoader)"
   ]
  },
  {
   "cell_type": "markdown",
   "metadata": {},
   "source": [
    "### Load EPC data \n",
    "\n",
    "Only load necessary features and subset to keep Kepler from crashing."
   ]
  },
  {
   "cell_type": "code",
   "execution_count": 3,
   "metadata": {},
   "outputs": [
    {
     "name": "stderr",
     "output_type": "stream",
     "text": [
      "/Users/juliasuter/opt/anaconda3/envs/EPC_data_analysis/lib/python3.8/site-packages/IPython/core/interactiveshell.py:3337: DtypeWarning: Columns (37) have mixed types.Specify dtype option on import or set low_memory=False.\n",
      "  if (await self.run_code(code, result,  async_=asy)):\n"
     ]
    }
   ],
   "source": [
    "# Set features of interest\n",
    "features_of_interest = [\"TENURE\", \"CURRENT_ENERGY_RATING\", \"POSTCODE\", \"POTENTIAL_ENERGY_RATING\"]\n",
    "\n",
    "# Load Wales EPC data\n",
    "epc_df = epc_data.load_EPC_data(subset=\"Wales\", usecols=features_of_interest, low_memory=False)\n",
    "location_df = util_data.get_location_data()"
   ]
  },
  {
   "cell_type": "markdown",
   "metadata": {},
   "source": [
    "### Load Location Data and additional EPC features\n",
    "\n",
    "And remove uncessary features afterwards (POSTCODE, POTENTIAL_ENERGY_RATING).\n",
    "\n",
    "Remove samples with invalid CURRENT_ENERGY_RATING."
   ]
  },
  {
   "cell_type": "code",
   "execution_count": 4,
   "metadata": {},
   "outputs": [
    {
     "data": {
      "text/html": [
       "<div>\n",
       "<style scoped>\n",
       "    .dataframe tbody tr th:only-of-type {\n",
       "        vertical-align: middle;\n",
       "    }\n",
       "\n",
       "    .dataframe tbody tr th {\n",
       "        vertical-align: top;\n",
       "    }\n",
       "\n",
       "    .dataframe thead th {\n",
       "        text-align: right;\n",
       "    }\n",
       "</style>\n",
       "<table border=\"1\" class=\"dataframe\">\n",
       "  <thead>\n",
       "    <tr style=\"text-align: right;\">\n",
       "      <th></th>\n",
       "      <th>TENURE</th>\n",
       "      <th>CURRENT_ENERGY_RATING</th>\n",
       "      <th>LATITUDE</th>\n",
       "      <th>LONGITUDE</th>\n",
       "      <th>ENERGY_RATING_CAT</th>\n",
       "    </tr>\n",
       "  </thead>\n",
       "  <tbody>\n",
       "    <tr>\n",
       "      <th>0</th>\n",
       "      <td>owner-occupied</td>\n",
       "      <td>C</td>\n",
       "      <td>51.830316</td>\n",
       "      <td>-3.014073</td>\n",
       "      <td>C-D</td>\n",
       "    </tr>\n",
       "    <tr>\n",
       "      <th>1</th>\n",
       "      <td>owner-occupied</td>\n",
       "      <td>D</td>\n",
       "      <td>51.830316</td>\n",
       "      <td>-3.014073</td>\n",
       "      <td>C-D</td>\n",
       "    </tr>\n",
       "    <tr>\n",
       "      <th>2</th>\n",
       "      <td>rental (social)</td>\n",
       "      <td>C</td>\n",
       "      <td>51.830316</td>\n",
       "      <td>-3.014073</td>\n",
       "      <td>C-D</td>\n",
       "    </tr>\n",
       "    <tr>\n",
       "      <th>3</th>\n",
       "      <td>owner-occupied</td>\n",
       "      <td>D</td>\n",
       "      <td>51.830316</td>\n",
       "      <td>-3.014073</td>\n",
       "      <td>C-D</td>\n",
       "    </tr>\n",
       "    <tr>\n",
       "      <th>4</th>\n",
       "      <td>owner-occupied</td>\n",
       "      <td>D</td>\n",
       "      <td>51.830316</td>\n",
       "      <td>-3.014073</td>\n",
       "      <td>C-D</td>\n",
       "    </tr>\n",
       "  </tbody>\n",
       "</table>\n",
       "</div>"
      ],
      "text/plain": [
       "            TENURE CURRENT_ENERGY_RATING   LATITUDE  LONGITUDE  \\\n",
       "0   owner-occupied                     C  51.830316  -3.014073   \n",
       "1   owner-occupied                     D  51.830316  -3.014073   \n",
       "2  rental (social)                     C  51.830316  -3.014073   \n",
       "3   owner-occupied                     D  51.830316  -3.014073   \n",
       "4   owner-occupied                     D  51.830316  -3.014073   \n",
       "\n",
       "  ENERGY_RATING_CAT  \n",
       "0               C-D  \n",
       "1               C-D  \n",
       "2               C-D  \n",
       "3               C-D  \n",
       "4               C-D  "
      ]
     },
     "execution_count": 4,
     "metadata": {},
     "output_type": "execute_result"
    }
   ],
   "source": [
    "# Merge with location data \n",
    "epc_df = util_data.merge_dataframes(epc_df, location_df, \"POSTCODE\")\n",
    "\n",
    "# Get additional features\n",
    "epc_df = feature_engineering.get_new_EPC_rating_features(epc_df)\n",
    "\n",
    "# Remove unnecessary features\n",
    "epc_df = epc_df[[\"TENURE\", \"CURRENT_ENERGY_RATING\",\n",
    "                 \"LATITUDE\", \"LONGITUDE\", \"ENERGY_RATING_CAT\"]]\n",
    "\n",
    "epc_df = epc_df.drop(\n",
    "    epc_df[epc_df.CURRENT_ENERGY_RATING == \"INVALID!\"].index\n",
    ")\n",
    "epc_df.head()"
   ]
  },
  {
   "cell_type": "markdown",
   "metadata": {},
   "source": [
    "### Load Wales IMD data"
   ]
  },
  {
   "cell_type": "code",
   "execution_count": 5,
   "metadata": {},
   "outputs": [
    {
     "data": {
      "text/html": [
       "<div>\n",
       "<style scoped>\n",
       "    .dataframe tbody tr th:only-of-type {\n",
       "        vertical-align: middle;\n",
       "    }\n",
       "\n",
       "    .dataframe tbody tr th {\n",
       "        vertical-align: top;\n",
       "    }\n",
       "\n",
       "    .dataframe thead th {\n",
       "        text-align: right;\n",
       "    }\n",
       "</style>\n",
       "<table border=\"1\" class=\"dataframe\">\n",
       "  <thead>\n",
       "    <tr style=\"text-align: right;\">\n",
       "      <th></th>\n",
       "      <th>WIMD Decile</th>\n",
       "      <th>LATITUDE</th>\n",
       "      <th>LONGITUDE</th>\n",
       "      <th>WIMD Score</th>\n",
       "    </tr>\n",
       "  </thead>\n",
       "  <tbody>\n",
       "    <tr>\n",
       "      <th>0</th>\n",
       "      <td>6</td>\n",
       "      <td>51.479111</td>\n",
       "      <td>-3.177999</td>\n",
       "      <td>17.1</td>\n",
       "    </tr>\n",
       "    <tr>\n",
       "      <th>1</th>\n",
       "      <td>6</td>\n",
       "      <td>51.478699</td>\n",
       "      <td>-3.177830</td>\n",
       "      <td>17.1</td>\n",
       "    </tr>\n",
       "    <tr>\n",
       "      <th>2</th>\n",
       "      <td>6</td>\n",
       "      <td>51.478065</td>\n",
       "      <td>-3.177410</td>\n",
       "      <td>17.1</td>\n",
       "    </tr>\n",
       "    <tr>\n",
       "      <th>3</th>\n",
       "      <td>6</td>\n",
       "      <td>51.478484</td>\n",
       "      <td>-3.176987</td>\n",
       "      <td>17.1</td>\n",
       "    </tr>\n",
       "    <tr>\n",
       "      <th>4</th>\n",
       "      <td>6</td>\n",
       "      <td>51.478813</td>\n",
       "      <td>-3.177228</td>\n",
       "      <td>17.1</td>\n",
       "    </tr>\n",
       "  </tbody>\n",
       "</table>\n",
       "</div>"
      ],
      "text/plain": [
       "   WIMD Decile   LATITUDE  LONGITUDE  WIMD Score\n",
       "0            6  51.479111  -3.177999        17.1\n",
       "1            6  51.478699  -3.177830        17.1\n",
       "2            6  51.478065  -3.177410        17.1\n",
       "3            6  51.478484  -3.176987        17.1\n",
       "4            6  51.478813  -3.177228        17.1"
      ]
     },
     "execution_count": 5,
     "metadata": {},
     "output_type": "execute_result"
    }
   ],
   "source": [
    "# Load Wales IMD data\n",
    "wimd_df = util_data.get_WIMD_data()\n",
    "wimd_df = wimd_df[['WIMD Decile', 'LATITUDE', 'LONGITUDE', 'WIMD Score']]\n",
    "wimd_df.head()"
   ]
  },
  {
   "cell_type": "markdown",
   "metadata": {},
   "source": [
    "### Load Data in Kepler Visualisation\n",
    "\n",
    "Load 4 different layers:\n",
    "\n",
    "    - rental (social)\n",
    "    - rental (private)\n",
    "    - owner-occupied\n",
    "    - IMD"
   ]
  },
  {
   "cell_type": "code",
   "execution_count": 6,
   "metadata": {},
   "outputs": [
    {
     "name": "stdout",
     "output_type": "stream",
     "text": [
      "User Guide: https://docs.kepler.gl/docs/keplergl-jupyter\n"
     ]
    }
   ],
   "source": [
    "tenure_type_map = KeplerGl(height=500, config=config)\n",
    "\n",
    "tenure_type_map.add_data(\n",
    "    data=epc_df.loc[epc_df[\"TENURE\"] == \"rental (social)\"], name=\"social\"\n",
    ")\n",
    "tenure_type_map.add_data(\n",
    "    data=epc_df.loc[epc_df[\"TENURE\"] == \"rental (private)\"], name=\"private\"\n",
    ")\n",
    "tenure_type_map.add_data(\n",
    "    data=epc_df.loc[epc_df[\"TENURE\"] == \"owner-occupied\"], name=\"owner-occupied\"\n",
    ")\n",
    "tenure_type_map.add_data(data=wimd_df, name=\"WIMD\")\n",
    "\n",
    "tenure_type_map"
   ]
  },
  {
   "cell_type": "markdown",
   "metadata": {},
   "source": [
    "### Save Map and Config File"
   ]
  },
  {
   "cell_type": "code",
   "execution_count": null,
   "metadata": {},
   "outputs": [],
   "source": [
    "tag = \"_x\"\n",
    "\n",
    "tenure_type_map.save_to_html(\n",
    "    file_name=\"../../../outputs/data/Wales/Kepler/Wales_EPC_IMD.html\"\n",
    ")\n",
    "with open(\"Kepler/tenure_type_correct_colors_IMD_config{}.txt\".format(tag), \"w\") as outfile:\n",
    "    outfile.write(str(tenure_type_map.config))"
   ]
  },
  {
   "cell_type": "code",
   "execution_count": null,
   "metadata": {},
   "outputs": [],
   "source": []
  }
 ],
 "metadata": {
  "jupytext": {
   "cell_metadata_filter": "-all",
   "comment_magics": true,
   "formats": "ipynb,py:percent"
  },
  "kernelspec": {
   "display_name": "EPC_data_analysis",
   "language": "python",
   "name": "epc_data_analysis"
  },
  "language_info": {
   "codemirror_mode": {
    "name": "ipython",
    "version": 3
   },
   "file_extension": ".py",
   "mimetype": "text/x-python",
   "name": "python",
   "nbconvert_exporter": "python",
   "pygments_lexer": "ipython3",
   "version": "3.8.8"
  }
 },
 "nbformat": 4,
 "nbformat_minor": 5
}
