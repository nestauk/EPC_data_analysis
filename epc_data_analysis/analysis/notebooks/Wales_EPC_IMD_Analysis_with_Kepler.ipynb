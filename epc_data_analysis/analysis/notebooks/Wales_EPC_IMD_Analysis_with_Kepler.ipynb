{
 "cells": [
  {
   "cell_type": "markdown",
   "id": "fdcc8095",
   "metadata": {},
   "source": [
    "# Analysis of Energy Efficiency using Kepler.gl\n",
    "\n",
    "\n",
    "We analyse energy efficiency in Wales and compare it to the Index of Multiple Deprivation (IMD). For visualisation, we use [kepler.gl](https://kepler.gl/)."
   ]
  },
  {
   "cell_type": "markdown",
   "id": "91f7c46d",
   "metadata": {},
   "source": [
    "### Imports"
   ]
  },
  {
   "cell_type": "code",
   "execution_count": null,
   "id": "48a4ae57",
   "metadata": {},
   "outputs": [],
   "source": [
    "import yaml\n",
    "import pandas as pd\n",
    "import numpy as np\n",
    "from keplergl import KeplerGl\n",
    "\n",
    "from epc_data_analysis import get_yaml_config, Path, PROJECT_DIR\n",
    "from epc_data_analysis.getters import epc_data, util_data\n",
    "from epc_data_analysis.pipeline import feature_engineering, data_cleaning\n",
    "from epc_data_analysis.analysis.notebooks.notebook_utils import Kepler_configs"
   ]
  },
  {
   "cell_type": "markdown",
   "id": "efb884d6",
   "metadata": {},
   "source": [
    "### Load Config File"
   ]
  },
  {
   "cell_type": "code",
   "execution_count": null,
   "id": "d981aa9f",
   "metadata": {},
   "outputs": [],
   "source": [
    "# Load config file\n",
    "config = Kepler_configs.get_Kepler_config()"
   ]
  },
  {
   "cell_type": "markdown",
   "id": "6619f34b",
   "metadata": {},
   "source": [
    "### Load EPC data\n",
    "\n",
    "Only load necessary features and subset to keep Kepler from crashing."
   ]
  },
  {
   "cell_type": "code",
   "execution_count": null,
   "id": "9a73e03c",
   "metadata": {},
   "outputs": [],
   "source": [
    "# Set features of interest\n",
    "features_of_interest = [\n",
    "    \"TENURE\",\n",
    "    \"CURRENT_ENERGY_RATING\",\n",
    "    \"POSTCODE\",\n",
    "    \"POTENTIAL_ENERGY_RATING\",\n",
    "]\n",
    "\n",
    "# Load Wales EPC data\n",
    "epc_df = epc_data.load_epc_data(\n",
    "    subset=\"Wales\", usecols=features_of_interest, low_memory=False\n",
    ")\n",
    "location_df = util_data.get_location_data()"
   ]
  },
  {
   "cell_type": "markdown",
   "id": "ab745978",
   "metadata": {},
   "source": [
    "### Load Location Data and additional EPC features\n",
    "\n",
    "And remove uncessary features afterwards (POSTCODE, POTENTIAL_ENERGY_RATING).\n",
    "\n",
    "Remove samples with invalid CURRENT_ENERGY_RATING."
   ]
  },
  {
   "cell_type": "code",
   "execution_count": null,
   "id": "48f6b6b3",
   "metadata": {},
   "outputs": [],
   "source": [
    "# Reformat POSTCODE\n",
    "epc_df = data_cleaning.reformat_postcode(epc_df)\n",
    "wimd_df = data_cleaning.reformat_postcode(location_df)\n",
    "\n",
    "# Merge with location data\n",
    "epc_df = pd.merge(epc_df, location_df, on=[\"POSTCODE\"])\n",
    "\n",
    "# Get additional features\n",
    "epc_df = feature_engineering.get_new_EPC_rating_features(epc_df)\n",
    "\n",
    "# Remove unnecessary features\n",
    "epc_df = epc_df[\n",
    "    [\"TENURE\", \"CURRENT_ENERGY_RATING\", \"LATITUDE\", \"LONGITUDE\", \"ENERGY_RATING_CAT\"]\n",
    "]\n",
    "\n",
    "epc_df = epc_df.drop(epc_df[epc_df.CURRENT_ENERGY_RATING == \"INVALID!\"].index)\n",
    "epc_df.head()"
   ]
  },
  {
   "cell_type": "markdown",
   "id": "44077e63",
   "metadata": {},
   "source": [
    "### Load Wales IMD data"
   ]
  },
  {
   "cell_type": "code",
   "execution_count": null,
   "id": "dc1b5760",
   "metadata": {},
   "outputs": [],
   "source": [
    "# Load Wales IMD data\n",
    "wimd_df = util_data.get_WIMD_data()\n",
    "wimd_df = wimd_df[[\"WIMD Decile\", \"LATITUDE\", \"LONGITUDE\", \"WIMD Score\"]]\n",
    "wimd_df.head()"
   ]
  },
  {
   "cell_type": "markdown",
   "id": "b7c10afd",
   "metadata": {},
   "source": [
    "### Load Data in Kepler Visualisation\n",
    "\n",
    "Load 4 different layers:\n",
    "\n",
    "    - rental (social)\n",
    "    - rental (private)\n",
    "    - owner-occupied\n",
    "    - IMD"
   ]
  },
  {
   "cell_type": "code",
   "execution_count": null,
   "id": "c06b3ae4",
   "metadata": {},
   "outputs": [],
   "source": [
    "tenure_type_map = KeplerGl(height=500, config=config)\n",
    "\n",
    "tenure_type_map.add_data(\n",
    "    data=epc_df.loc[epc_df[\"TENURE\"] == \"rental (social)\"], name=\"social\"\n",
    ")\n",
    "tenure_type_map.add_data(\n",
    "    data=epc_df.loc[epc_df[\"TENURE\"] == \"rental (private)\"], name=\"private\"\n",
    ")\n",
    "tenure_type_map.add_data(\n",
    "    data=epc_df.loc[epc_df[\"TENURE\"] == \"owner-occupied\"], name=\"owner-occupied\"\n",
    ")\n",
    "tenure_type_map.add_data(data=wimd_df, name=\"WIMD\")\n",
    "\n",
    "tenure_type_map"
   ]
  },
  {
   "cell_type": "markdown",
   "id": "aeb41241",
   "metadata": {},
   "source": [
    "### Save Map and Config File"
   ]
  },
  {
   "cell_type": "code",
   "execution_count": null,
   "id": "dc0cbf1b",
   "metadata": {},
   "outputs": [],
   "source": [
    "tag = \"_new\"\n",
    "\n",
    "tenure_type_map.save_to_html(\n",
    "    file_name=Kepler_configs.KEPLER_OUTPUT_PATH + \"Wales_EPC_IMD.html\"\n",
    ")\n",
    "\n",
    "new_config_file = (\n",
    "    Kepler_configs.KEPLER_CONFIG_FILE_PATH\n",
    "    + \"/tenure_type_correct_colors_IMD_config{}.txt\".format(tag)\n",
    ")\n",
    "with open(new_config_file, \"w\") as outfile:\n",
    "    outfile.write(str(tenure_type_map.config))"
   ]
  }
 ],
 "metadata": {
  "jupytext": {
   "cell_metadata_filter": "-all",
   "comment_magics": true,
   "formats": "ipynb,py:percent"
  },
  "kernelspec": {
   "display_name": "epc_data_analysis",
   "language": "python",
   "name": "epc_data_analysis"
  },
  "language_info": {
   "codemirror_mode": {
    "name": "ipython",
    "version": 3
   },
   "file_extension": ".py",
   "mimetype": "text/x-python",
   "name": "python",
   "nbconvert_exporter": "python",
   "pygments_lexer": "ipython3",
   "version": "3.8.11"
  }
 },
 "nbformat": 4,
 "nbformat_minor": 5
}
